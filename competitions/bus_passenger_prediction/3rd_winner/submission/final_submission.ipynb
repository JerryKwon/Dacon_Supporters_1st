{
 "cells": [
  {
   "cell_type": "markdown",
   "metadata": {},
   "source": [
    "최종 제출물 생성파일"
   ]
  },
  {
   "cell_type": "code",
   "execution_count": 13,
   "metadata": {
    "ExecuteTime": {
     "end_time": "2019-12-12T07:59:30.117037Z",
     "start_time": "2019-12-12T07:59:30.114035Z"
    }
   },
   "outputs": [],
   "source": [
    "import pandas as pd"
   ]
  },
  {
   "cell_type": "code",
   "execution_count": 14,
   "metadata": {
    "ExecuteTime": {
     "end_time": "2019-12-12T07:59:30.665292Z",
     "start_time": "2019-12-12T07:59:30.361200Z"
    }
   },
   "outputs": [],
   "source": [
    "lgbm = pd.read_csv('lgbm_40_seeds_stractified5k_bus_route_id.csv')\n",
    "lgbm_port = pd.read_csv('lgbm_5_seeds_stractified5k_bus_route_id_port.csv')\n",
    "cat = pd.read_csv('cat_5_seeds_stractified5k_bus_route_id.csv')"
   ]
  },
  {
   "cell_type": "code",
   "execution_count": 15,
   "metadata": {
    "ExecuteTime": {
     "end_time": "2019-12-12T07:59:30.731293Z",
     "start_time": "2019-12-12T07:59:30.666166Z"
    }
   },
   "outputs": [],
   "source": [
    "final_sub=pd.read_csv(r\"C:\\Users\\user\\DACON Dropbox\\1. 대회\\13th_제주테크노파크2\\우승자\\3등 - TEAM-EDA\\giba_dacon_bus\\raw_dataset\\submission_sample.csv\")"
   ]
  },
  {
   "cell_type": "code",
   "execution_count": 16,
   "metadata": {
    "ExecuteTime": {
     "end_time": "2019-12-12T07:59:30.866196Z",
     "start_time": "2019-12-12T07:59:30.849166Z"
    }
   },
   "outputs": [],
   "source": [
    "# final_sub = lgbm.copy()\n",
    "final_sub['18~20_ride'] = 0.25 * lgbm['18~20_ride'] + 0.25 * lgbm_port['18~20_ride']+ 0.5 *cat['18~20_ride']"
   ]
  },
  {
   "cell_type": "code",
   "execution_count": null,
   "metadata": {},
   "outputs": [],
   "source": []
  },
  {
   "cell_type": "code",
   "execution_count": 17,
   "metadata": {
    "ExecuteTime": {
     "end_time": "2019-12-12T07:59:32.613179Z",
     "start_time": "2019-12-12T07:59:31.851144Z"
    },
    "scrolled": true
   },
   "outputs": [],
   "source": [
    "final_sub.to_csv('cat5seeds_lgbm40seeds_lgbmport5seeds_ensemble.csv', index=False)"
   ]
  },
  {
   "cell_type": "code",
   "execution_count": null,
   "metadata": {},
   "outputs": [],
   "source": []
  }
 ],
 "metadata": {
  "hide_input": false,
  "kernelspec": {
   "display_name": "Python 3",
   "language": "python",
   "name": "python3"
  },
  "language_info": {
   "codemirror_mode": {
    "name": "ipython",
    "version": 3
   },
   "file_extension": ".py",
   "mimetype": "text/x-python",
   "name": "python",
   "nbconvert_exporter": "python",
   "pygments_lexer": "ipython3",
   "version": "3.7.3"
  },
  "latex_envs": {
   "LaTeX_envs_menu_present": true,
   "autoclose": false,
   "autocomplete": true,
   "bibliofile": "biblio.bib",
   "cite_by": "apalike",
   "current_citInitial": 1,
   "eqLabelWithNumbers": true,
   "eqNumInitial": 1,
   "hotkeys": {
    "equation": "Ctrl-E",
    "itemize": "Ctrl-I"
   },
   "labels_anchors": false,
   "latex_user_defs": false,
   "report_style_numbering": false,
   "user_envs_cfg": false
  },
  "toc": {
   "base_numbering": 1,
   "nav_menu": {},
   "number_sections": true,
   "sideBar": true,
   "skip_h1_title": false,
   "title_cell": "Table of Contents",
   "title_sidebar": "Contents",
   "toc_cell": false,
   "toc_position": {},
   "toc_section_display": true,
   "toc_window_display": false
  },
  "varInspector": {
   "cols": {
    "lenName": 16,
    "lenType": 16,
    "lenVar": 40
   },
   "kernels_config": {
    "python": {
     "delete_cmd_postfix": "",
     "delete_cmd_prefix": "del ",
     "library": "var_list.py",
     "varRefreshCmd": "print(var_dic_list())"
    },
    "r": {
     "delete_cmd_postfix": ") ",
     "delete_cmd_prefix": "rm(",
     "library": "var_list.r",
     "varRefreshCmd": "cat(var_dic_list()) "
    }
   },
   "types_to_exclude": [
    "module",
    "function",
    "builtin_function_or_method",
    "instance",
    "_Feature"
   ],
   "window_display": false
  }
 },
 "nbformat": 4,
 "nbformat_minor": 2
}
