{
 "cells": [
  {
   "cell_type": "code",
   "execution_count": null,
   "metadata": {
    "ExecuteTime": {
     "end_time": "2019-12-10T06:13:47.364583Z",
     "start_time": "2019-12-10T06:13:44.398367Z"
    },
    "_cell_guid": "b1076dfc-b9ad-4769-8c92-a6c4dae69d19",
    "_uuid": "8f2839f25d086af736a60e9eeb907d3b93b6e0e5"
   },
   "outputs": [],
   "source": [
    "import pandas as pd\n",
    "import numpy as np\n",
    "import os, random, warnings, gc, psutil, datetime\n",
    "from tqdm import tqdm_notebook, tqdm\n",
    "\n",
    "from multiprocessing import Pool\n",
    "\n",
    "from sklearn.preprocessing import LabelEncoder\n",
    "from sklearn.model_selection import GroupKFold, StratifiedKFold, KFold\n",
    "from sklearn.metrics import mean_squared_error\n",
    "from math import sqrt\n",
    "\n",
    "import lightgbm as lgbm\n",
    "\n",
    "from glob import glob\n",
    "from IPython.display import display\n",
    "\n",
    "import seaborn as sns\n",
    "import matplotlib.pyplot as plt\n",
    "\n",
    "from sklearn.cluster import MiniBatchKMeans, KMeans\n",
    "\n",
    "# Set options\n",
    "pd.set_option('max_columns',500)\n",
    "pd.set_option('max_rows',500)\n",
    "pd.options.display.max_colwidth = 300\n",
    "\n",
    "warnings.filterwarnings('ignore')\n",
    "\n",
    "%matplotlib inline\n",
    "sns.set_palette('bright')"
   ]
  },
  {
   "cell_type": "code",
   "execution_count": null,
   "metadata": {
    "ExecuteTime": {
     "end_time": "2019-12-10T06:24:55.716402Z",
     "start_time": "2019-12-10T06:24:55.710897Z"
    },
    "_cell_guid": "79c7e3d0-c299-4dcb-8224-4455121ee9b0",
    "_uuid": "d629ff2d2480ee46fbb7e2d37f6b5fab8052498a"
   },
   "outputs": [],
   "source": [
    "path = '../raw_dataset/'"
   ]
  },
  {
   "cell_type": "markdown",
   "metadata": {},
   "source": [
    "## Load Dataset (giba code)"
   ]
  },
  {
   "cell_type": "code",
   "execution_count": null,
   "metadata": {
    "ExecuteTime": {
     "end_time": "2019-12-10T06:17:36.730478Z",
     "start_time": "2019-12-10T06:13:49.158716Z"
    }
   },
   "outputs": [],
   "source": [
    "df_bus = pd.read_csv(path + 'bus_bts.csv')\n",
    "df_bus['geton_date'] = pd.to_datetime(df_bus['geton_date'])\n",
    "\n",
    "# 주중에 정기적으로 타는 사람들\n",
    "df_bus['weekday'] = df_bus['geton_date'].dt.weekday\n",
    "\n",
    "df_weekday = df_bus[df_bus['weekday']<5]\n",
    "\n",
    "df_commuter = df_weekday.groupby(['user_card_id','geton_station_code']).size().reset_index()\n",
    "df_commuter.columns = ['user_card_id','geton_station_code','num_usage']\n",
    "\n",
    "df_commuter = df_commuter[df_commuter['num_usage']>=10].reset_index(drop=True)\n",
    "df_commuter = df_commuter.groupby('geton_station_code')['user_card_id'].count()\n",
    "\n",
    "df_commuter = df_commuter.reset_index()\n",
    "df_commuter.columns = ['station_code','regular_commuter_count']\n",
    "\n",
    "# 해당 정류장에 12시 이후에 몇명이 내렸는지\n",
    "df_afternoon = df_bus[df_bus['getoff_time']>='12:00:00'][['bus_route_id','getoff_date','getoff_station_code','getoff_time','user_category','user_count']]\n",
    "df_afternoon_getoff_amount = df_afternoon.groupby(['bus_route_id','getoff_date','getoff_station_code'])['user_count'].sum().reset_index()\n",
    "df_afternoon_getoff_amount = df_afternoon_getoff_amount.rename(columns = {'user_count' : 'afternoon_takeoff'})\n",
    "\n",
    "# 해당 정류장에 같은 노선의 버스가 직전 몇분 전에 왔었는지\n",
    "first_passenger_tagtime = df_bus.groupby(['geton_date', 'bus_route_id', 'vhc_id','geton_station_code'])['geton_time'].min().reset_index()\n",
    "\n",
    "\n",
    "first_passenger_tagtime = first_passenger_tagtime.sort_values(by=['geton_date','bus_route_id','geton_station_code','geton_time']).reset_index(drop=True)\n",
    "\n",
    "first_passenger_tagtime['geton_time_second']= first_passenger_tagtime['geton_time'].apply(lambda x: 60*60 *int(x.split(':')[0] ) +\\\n",
    "                                                                                                    60 * int(x.split(':')[1]) +\\\n",
    "                                                                                                          int(x.split(':')[2]) )\n",
    "\n",
    "first_passenger_tagtime['next_bus_time_diff'] = first_passenger_tagtime.groupby(['geton_date','bus_route_id','geton_station_code'])['geton_time_second'].diff()\n",
    "date_route_stataion_waittime = first_passenger_tagtime.groupby(['geton_date','bus_route_id','geton_station_code'])['next_bus_time_diff'].mean().reset_index()\n",
    "\n",
    "date_route_stataion_waittime = date_route_stataion_waittime.groupby(['geton_date','bus_route_id'])['next_bus_time_diff'].mean()\n",
    "date_route_stataion_waittime =date_route_stataion_waittime.reset_index()\n",
    "\n",
    "# 6~9, 9~12시 사이에 각기 다른 집단의 사람들이 몇명 탑승했는지\n",
    "bus_sample = df_bus[['geton_date','geton_station_code','geton_time','user_category','user_count']].copy()\n",
    "bus_sample['geton_morning'] = bus_sample['geton_time'].apply(lambda x: int(x.split(':')[0]) <=9 )\n",
    "bus_passender_cluster_count = bus_sample.groupby(['geton_date','geton_station_code','geton_morning','user_category'])['user_count'].sum().reset_index()\n",
    "\n",
    "bus_passender_cluster_count_morning = bus_passender_cluster_count[bus_passender_cluster_count['geton_morning']==True]\n",
    "geton_bus_passender_cluster_count_morning = pd.pivot_table( bus_passender_cluster_count_morning, index = ['geton_date', 'geton_station_code'],\n",
    "                                columns=['user_category'], values = ['user_count'], aggfunc='sum').reset_index()\n",
    "\n",
    "geton_bus_passender_cluster_count_morning.columns = ['geton_date', 'geton_station_code']  +\\\n",
    "                            ['getin_user_count1_morning','getin_user_count2_morning','getin_user_count4_morning','getin_user_count6_morning','d1','d2','d3','d4']\n",
    "\n",
    "geton_bus_passender_cluster_count_morning = geton_bus_passender_cluster_count_morning.drop(['d1','d2','d3','d4'],1)\n",
    "\n",
    "\n",
    "def calculate_getoff_time(val):\n",
    "    if val <= 9 :\n",
    "        return 0\n",
    "    elif val <= 12:\n",
    "        return 1\n",
    "    else:\n",
    "        return 2\n",
    "    \n",
    "# 6~9, 9~12시 사이에 각기 다른 집단의 사람들이 몇명 내렸는지\n",
    "bus_sample = df_bus[['geton_date','getoff_station_code','getoff_time','user_category','user_count']].copy()\n",
    "bus_sample = bus_sample[bus_sample['getoff_time'].notnull()]\n",
    "bus_sample['getoff_hour'] =  bus_sample['getoff_time'].apply(lambda x: int(x.split(':')[0]) )\n",
    "bus_sample['getoff_hour'] =  bus_sample['getoff_hour'].apply(calculate_getoff_time)\n",
    "\n",
    "bus_passender_cluster_count = bus_sample.groupby(['geton_date','getoff_station_code','getoff_hour','user_category'])['user_count'].sum().reset_index()\n",
    "\n",
    "takeoff_bus_passender_cluster_count_noon = bus_passender_cluster_count[bus_passender_cluster_count['getoff_hour']==1]\n",
    "\n",
    "\n",
    "takeoff_bus_passender_cluster_count_noon = pd.pivot_table( takeoff_bus_passender_cluster_count_noon, index = ['geton_date', 'getoff_station_code'],\n",
    "                                                                    columns=['user_category'], values = ['user_count'], aggfunc='sum').reset_index()\n",
    "\n",
    "\n",
    "\n",
    "takeoff_bus_passender_cluster_count_noon.columns = ['geton_date', 'getoff_station_code']  +\\\n",
    "                            ['takeoff_user_count1_noon','takeoff_user_count2_noon','takeoff_user_count4_noon','takeoff_user_count6_noon','d1','d2','d3','d4']\n",
    "\n",
    "takeoff_bus_passender_cluster_count_noon = takeoff_bus_passender_cluster_count_noon.drop(['d1','d2','d3','d4'],1)\n"
   ]
  },
  {
   "cell_type": "markdown",
   "metadata": {},
   "source": [
    "## Main Dataset"
   ]
  },
  {
   "cell_type": "code",
   "execution_count": null,
   "metadata": {
    "ExecuteTime": {
     "end_time": "2019-12-10T06:17:38.042576Z",
     "start_time": "2019-12-10T06:17:36.732479Z"
    }
   },
   "outputs": [],
   "source": [
    "train = pd.read_csv(path + 'train.csv', parse_dates =['date'])\n",
    "test = pd.read_csv(path + 'test.csv', parse_dates =['date'])"
   ]
  },
  {
   "cell_type": "code",
   "execution_count": null,
   "metadata": {
    "ExecuteTime": {
     "end_time": "2019-12-10T06:17:38.049580Z",
     "start_time": "2019-12-10T06:17:38.044576Z"
    }
   },
   "outputs": [],
   "source": [
    "# 여기에 전역변수들 몇개 추가했습니다\n",
    "n_trn = len(train)\n",
    "target_col = '18~20_ride'\n",
    "ride_cols = ['6~7_ride', '7~8_ride', '8~9_ride', '9~10_ride', '10~11_ride', '11~12_ride']\n",
    "ride_go_to_work_cols = ['7~8_ride', '8~9_ride', '9~10_ride']\n",
    "takeoff_cols = ['6~7_takeoff', '7~8_takeoff', '8~9_takeoff', '9~10_takeoff', '10~11_takeoff', '11~12_takeoff']\n",
    "takeoff_go_to_work_cols = ['7~8_takeoff', '8~9_takeoff', '9~10_takeoff']\n",
    "SEED = 42\n",
    "n_splits = 5\n",
    "TARGET = '18~20_ride'"
   ]
  },
  {
   "cell_type": "code",
   "execution_count": null,
   "metadata": {
    "ExecuteTime": {
     "end_time": "2019-12-10T06:17:38.068578Z",
     "start_time": "2019-12-10T06:17:38.053578Z"
    }
   },
   "outputs": [],
   "source": [
    "drop_cols = ['id', 'station_name', 'date', 'preds', 'DT_D']"
   ]
  },
  {
   "cell_type": "code",
   "execution_count": null,
   "metadata": {
    "ExecuteTime": {
     "end_time": "2019-12-10T06:17:38.205587Z",
     "start_time": "2019-12-10T06:17:38.070579Z"
    }
   },
   "outputs": [],
   "source": [
    "# Make a whole dataset\n",
    "combined = train.append(test, ignore_index=True)"
   ]
  },
  {
   "cell_type": "code",
   "execution_count": null,
   "metadata": {
    "ExecuteTime": {
     "end_time": "2019-12-10T06:17:38.245591Z",
     "start_time": "2019-12-10T06:17:38.207589Z"
    }
   },
   "outputs": [],
   "source": [
    "combined.head()"
   ]
  },
  {
   "cell_type": "markdown",
   "metadata": {},
   "source": [
    "## sogna code"
   ]
  },
  {
   "cell_type": "code",
   "execution_count": null,
   "metadata": {
    "ExecuteTime": {
     "end_time": "2019-12-10T06:17:38.251592Z",
     "start_time": "2019-12-10T06:17:38.247593Z"
    }
   },
   "outputs": [],
   "source": [
    "df = combined"
   ]
  },
  {
   "cell_type": "code",
   "execution_count": null,
   "metadata": {
    "ExecuteTime": {
     "end_time": "2019-12-10T06:17:38.357600Z",
     "start_time": "2019-12-10T06:17:38.255593Z"
    }
   },
   "outputs": [],
   "source": [
    "df['DT_D'] = df['date'].dt.day\n",
    "df['dayofweek'] = df['date'].dt.dayofweek\n",
    "df['weekend'] = (df['dayofweek'] >= 5) * 1"
   ]
  },
  {
   "cell_type": "code",
   "execution_count": null,
   "metadata": {
    "ExecuteTime": {
     "end_time": "2019-12-10T06:17:38.428604Z",
     "start_time": "2019-12-10T06:17:38.360602Z"
    }
   },
   "outputs": [],
   "source": [
    "df['in_out'] = df['in_out'].map({'시내':0,'시외':1})"
   ]
  },
  {
   "cell_type": "code",
   "execution_count": null,
   "metadata": {
    "ExecuteTime": {
     "end_time": "2019-12-10T06:17:38.993644Z",
     "start_time": "2019-12-10T06:17:38.430604Z"
    }
   },
   "outputs": [],
   "source": [
    "df['ride_total'] = df[ride_cols].sum(axis=1)\n",
    "df['takeoff_total'] = df[takeoff_cols].sum(axis=1)\n",
    "df['ride_go_to_work'] = df[ride_go_to_work_cols].sum(axis=1)\n",
    "df['takeoff_go_to_work'] = df[takeoff_go_to_work_cols].sum(axis=1)"
   ]
  },
  {
   "cell_type": "code",
   "execution_count": null,
   "metadata": {
    "ExecuteTime": {
     "end_time": "2019-12-10T06:19:03.419015Z",
     "start_time": "2019-12-10T06:17:38.995646Z"
    }
   },
   "outputs": [],
   "source": [
    "import geopy.distance\n",
    "\n",
    "coords_jejusi = (33.500770, 126.522761) #제주시의 위도 경도\n",
    "coords_seoquipo = (33.259429, 126.558217) #서귀포시의 위도 경도\n",
    "df['dis_jejusi'] = [geopy.distance.vincenty((df['latitude'].iloc[i],df['longitude'].iloc[i]), coords_jejusi).km for i in range(len(df))]\n",
    "df['dis_seoquipo'] = [geopy.distance.vincenty((df['latitude'].iloc[i],df['longitude'].iloc[i]), coords_seoquipo).km for i in range(len(df))]"
   ]
  },
  {
   "cell_type": "code",
   "execution_count": null,
   "metadata": {
    "ExecuteTime": {
     "end_time": "2019-12-10T06:19:20.742287Z",
     "start_time": "2019-12-10T06:19:03.420016Z"
    }
   },
   "outputs": [],
   "source": [
    "df['date_bus_route_id_station_code'] = df['date'].astype(str) + '_' + df['bus_route_id'].astype(str) + '_' + df['station_code'].astype(str)\n",
    "df['date_station_code'] = df['date'].astype(str) + '_' + df['station_code'].astype(str)\n",
    "df['date_bus_route_id'] = df['date'].astype(str) + '_' + df['bus_route_id'].astype(str)\n",
    "df['bus_route_id_station_code'] = df['bus_route_id'].astype(str) + '_' + df['station_code'].astype(str)\n",
    "df['bus_route_id_station_code_weekend'] = df['bus_route_id_station_code'].astype(str) + '_' + df['weekend'].astype(str)\n",
    "\n",
    "drop_cols += ['date_bus_route_id_station_code', 'date_station_code', 'date_bus_route_id']"
   ]
  },
  {
   "cell_type": "code",
   "execution_count": null,
   "metadata": {
    "ExecuteTime": {
     "end_time": "2019-12-10T06:19:21.203323Z",
     "start_time": "2019-12-10T06:19:20.743288Z"
    }
   },
   "outputs": [],
   "source": [
    "df['station_code'] = df['station_code'].astype('category')\n",
    "df['bus_route_id'] = df['bus_route_id'].astype('category')\n",
    "df['bus_route_id_station_code'] = df['bus_route_id_station_code'].astype('category')\n",
    "df['bus_route_id_station_code_weekend'] = df['bus_route_id_station_code_weekend'].astype('category')"
   ]
  },
  {
   "cell_type": "code",
   "execution_count": null,
   "metadata": {
    "ExecuteTime": {
     "end_time": "2019-12-10T06:19:21.217322Z",
     "start_time": "2019-12-10T06:19:21.206325Z"
    }
   },
   "outputs": [],
   "source": [
    "def frequency_encoding(data_df, columns, self_encoding=False):\n",
    "    for col in columns:\n",
    "        temp_df = data_df[[col]]\n",
    "        fq_encode = temp_df[col].value_counts(dropna=False).to_dict()\n",
    "        if self_encoding:\n",
    "            data_df[col] = data_df[col].map(fq_encode)\n",
    "        else:\n",
    "            data_df[col+'_fq_enc'] = data_df[col].map(fq_encode)\n",
    "    return data_df"
   ]
  },
  {
   "cell_type": "code",
   "execution_count": null,
   "metadata": {
    "ExecuteTime": {
     "end_time": "2019-12-10T06:19:24.465561Z",
     "start_time": "2019-12-10T06:19:21.222325Z"
    }
   },
   "outputs": [],
   "source": [
    "df = frequency_encoding(df, ['date', 'station_code', 'bus_route_id', 'bus_route_id_station_code', 'date_bus_route_id', 'date_station_code', 'date_bus_route_id_station_code'], self_encoding=False)"
   ]
  },
  {
   "cell_type": "code",
   "execution_count": null,
   "metadata": {
    "ExecuteTime": {
     "end_time": "2019-12-10T06:19:24.478563Z",
     "start_time": "2019-12-10T06:19:24.466561Z"
    }
   },
   "outputs": [],
   "source": [
    "def encode_AG(main_columns, groups, aggregations=['mean'], data_df=df, fillna=False, usena=False):\n",
    "    # AGGREGATION OF MAIN WITH UID FOR GIVEN STATISTICS\n",
    "    data_df = data_df.copy()\n",
    "    for main_column in main_columns:\n",
    "        for col in groups:\n",
    "            for agg_type in aggregations:\n",
    "                new_col_name = main_column+'_'+col+'_'+agg_type\n",
    "                temp_df = data_df[[col,main_column]]\n",
    "                if usena: temp_df.loc[temp_df[main_column]==-1,main_column] = np.nan\n",
    "                temp_df = temp_df.groupby([col])[main_column].agg([agg_type]).reset_index().rename(\n",
    "                                                        columns={agg_type: new_col_name})\n",
    "\n",
    "                temp_df.index = list(temp_df[col])\n",
    "                temp_df = temp_df[new_col_name].to_dict()   \n",
    "\n",
    "                data_df[new_col_name] = data_df[col].map(temp_df).astype('float32')\n",
    "                \n",
    "                if fillna:\n",
    "                    data_df[new_col_name].fillna(-1,inplace=True)\n",
    "                \n",
    "                print(\"'\"+new_col_name+\"'\",', ',end='')\n",
    "    \n",
    "    return data_df"
   ]
  },
  {
   "cell_type": "code",
   "execution_count": null,
   "metadata": {
    "ExecuteTime": {
     "end_time": "2019-12-10T06:19:25.599647Z",
     "start_time": "2019-12-10T06:19:24.481565Z"
    }
   },
   "outputs": [],
   "source": [
    "df = encode_AG(ride_go_to_work_cols, ['date', 'date_bus_route_id'], ['mean'], df)"
   ]
  },
  {
   "cell_type": "markdown",
   "metadata": {},
   "source": [
    "## giba code"
   ]
  },
  {
   "cell_type": "code",
   "execution_count": null,
   "metadata": {
    "ExecuteTime": {
     "end_time": "2019-12-10T06:19:25.691651Z",
     "start_time": "2019-12-10T06:19:25.602647Z"
    }
   },
   "outputs": [],
   "source": [
    "combined = df.copy()"
   ]
  },
  {
   "cell_type": "code",
   "execution_count": null,
   "metadata": {
    "ExecuteTime": {
     "end_time": "2019-12-10T06:19:26.000673Z",
     "start_time": "2019-12-10T06:19:25.692650Z"
    }
   },
   "outputs": [],
   "source": [
    "# Sequence of the station\n",
    "combined['station_sequence'] = 1\n",
    "combined['station_reverse_sequence'] = combined[::-1].groupby(['date','bus_route_id'])['station_sequence'].cumsum()[::-1]\n",
    "combined['station_sequence'] = combined.groupby(['date','bus_route_id'])['station_sequence'].cumsum()"
   ]
  },
  {
   "cell_type": "code",
   "execution_count": null,
   "metadata": {
    "ExecuteTime": {
     "end_time": "2019-12-10T06:19:26.050677Z",
     "start_time": "2019-12-10T06:19:26.002674Z"
    }
   },
   "outputs": [],
   "source": [
    "# Change the dtype of \"date\"\n",
    "combined['weekday'] = combined['date'].dt.weekday.astype(np.int8)\n",
    "combined['weekend'] = (combined['weekday'] >= 5) * 1"
   ]
  },
  {
   "cell_type": "code",
   "execution_count": null,
   "metadata": {
    "ExecuteTime": {
     "end_time": "2019-12-10T06:19:29.353920Z",
     "start_time": "2019-12-10T06:19:26.051678Z"
    }
   },
   "outputs": [],
   "source": [
    "# Holidays\n",
    "national_holidays = [datetime.date(2019, 9,12),datetime.date(2019, 9,13), \n",
    "                     datetime.date(2019, 9,14),\n",
    "                     datetime.date(2019, 10,3), datetime.date(2019, 10,9)]\n",
    "\n",
    "combined['is_national_holiday'] = combined['date'].apply(lambda x: x in national_holidays).astype(np.int8)"
   ]
  },
  {
   "cell_type": "code",
   "execution_count": null,
   "metadata": {
    "ExecuteTime": {
     "end_time": "2019-12-10T06:19:30.298989Z",
     "start_time": "2019-12-10T06:19:29.355922Z"
    }
   },
   "outputs": [],
   "source": [
    "# Sum-up the number of passengers for two intervers\n",
    "morining_getin_cols = ['6~7_ride', '7~8_ride', '8~9_ride']\n",
    "noon_getin_cols = ['9~10_ride', '10~11_ride', '11~12_ride']\n",
    "\n",
    "morning_takeoff_cols = ['6~7_takeoff', '7~8_takeoff','8~9_takeoff']\n",
    "noon_takeoff_cols = ['9~10_takeoff', '10~11_takeoff', '11~12_takeoff']\n",
    "\n",
    "combined['getin_total'] = combined[morining_getin_cols + noon_getin_cols].sum(axis=1)\n",
    "combined['takeoff_total'] = combined[morning_takeoff_cols + noon_takeoff_cols].sum(axis=1)\n",
    "\n",
    "# Morning getin/takeoff & Noon getin/takeoff\n",
    "combined['morning_getin'] = combined[morining_getin_cols].sum(axis=1)\n",
    "combined['morning_takeoff'] = combined[morning_takeoff_cols].sum(axis=1)\n",
    "\n",
    "combined['noon_getin'] = combined[noon_getin_cols].sum(axis=1)\n",
    "combined['noon_takeoff'] = combined[noon_takeoff_cols].sum(axis=1)\n",
    "\n",
    "combined = combined.drop(morining_getin_cols  + noon_getin_cols + morning_takeoff_cols + noon_takeoff_cols ,1)"
   ]
  },
  {
   "cell_type": "code",
   "execution_count": null,
   "metadata": {
    "ExecuteTime": {
     "end_time": "2019-12-10T06:19:35.256354Z",
     "start_time": "2019-12-10T06:19:30.302990Z"
    }
   },
   "outputs": [],
   "source": [
    "# STATION_CODE\n",
    "\n",
    "# Sum of passenger per morning (getin)  \n",
    "station_morning_getin_sum = combined.groupby(['date','station_code'])['morning_getin'].sum().reset_index()\n",
    "station_morning_getin_sum = station_morning_getin_sum.rename(columns = {'morning_getin': 'station_morning_getin_sum'})\n",
    "\n",
    "# Sum of passenger per morning (takeoff)  \n",
    "station_morning_takeoff_sum = combined.groupby(['date','station_code'])['morning_takeoff'].sum().reset_index()\n",
    "station_morning_takeoff_sum = station_morning_takeoff_sum.rename(columns = {'morning_takeoff': 'station_morning_takeoff_sum'})\n",
    "\n",
    "# Merge\n",
    "combined = pd.merge(combined, station_morning_getin_sum , on =['date','station_code'], how='left')\n",
    "combined = pd.merge(combined, station_morning_takeoff_sum , on =['date','station_code'], how='left')"
   ]
  },
  {
   "cell_type": "code",
   "execution_count": null,
   "metadata": {
    "ExecuteTime": {
     "end_time": "2019-12-10T06:19:37.328506Z",
     "start_time": "2019-12-10T06:19:35.259355Z"
    }
   },
   "outputs": [],
   "source": [
    "# BUS_ROUTE\n",
    "\n",
    "# Sum of passenger per morning (getin)  \n",
    "bus_route_getin_sum = combined.groupby(['date','bus_route_id'])['morning_getin'].sum().reset_index()\n",
    "bus_route_getin_sum = bus_route_getin_sum.rename(columns = {'morning_getin': 'bus_route_getin_sum'})\n",
    "\n",
    "# Sum of passenger per morning (takeoff)  \n",
    "bus_route_takeoff_sum = combined.groupby(['date','bus_route_id'])['morning_takeoff'].sum().reset_index()\n",
    "bus_route_takeoff_sum = bus_route_takeoff_sum.rename(columns = {'morning_takeoff': 'bus_route_takeoff_sum'})\n",
    "\n",
    "# Merge\n",
    "combined = pd.merge(combined, bus_route_getin_sum , on =['date','bus_route_id'], how='left')\n",
    "combined = pd.merge(combined, bus_route_takeoff_sum , on =['date','bus_route_id'], how='left')"
   ]
  },
  {
   "cell_type": "code",
   "execution_count": null,
   "metadata": {
    "ExecuteTime": {
     "end_time": "2019-12-10T06:19:42.898914Z",
     "start_time": "2019-12-10T06:19:37.330506Z"
    }
   },
   "outputs": [],
   "source": [
    "# STATION_CODE\n",
    "\n",
    "# mean of passenger per morning (getin)  -- noon getin not working\n",
    "station_morning_getin_mean = combined.groupby(['date','station_code'])['morning_getin'].mean().reset_index()\n",
    "station_morning_getin_mean = station_morning_getin_mean.rename(columns = {'morning_getin': 'station_morning_getin_mean'})\n",
    "\n",
    "# mean of passenger per morning (getin)  -- noon getin not working\n",
    "station_morning_takeoff_mean = combined.groupby(['date','station_code'])['morning_takeoff'].mean().reset_index()\n",
    "station_morning_takeoff_mean = station_morning_takeoff_mean.rename(columns = {'morning_takeoff': 'station_morning_takeoff_mean'})\n",
    "\n",
    "# Merge\n",
    "combined = pd.merge(combined, station_morning_getin_mean , on =['date','station_code'], how='left')\n",
    "combined = pd.merge(combined, station_morning_takeoff_mean , on =['date','station_code'], how='left')\n"
   ]
  },
  {
   "cell_type": "code",
   "execution_count": null,
   "metadata": {
    "ExecuteTime": {
     "end_time": "2019-12-10T06:19:45.095075Z",
     "start_time": "2019-12-10T06:19:42.900915Z"
    }
   },
   "outputs": [],
   "source": [
    "# BUS_ROUTE\n",
    "\n",
    "# mean of passenger per morning (getin)  \n",
    "bus_route_getin_mean = combined.groupby(['date','bus_route_id'])['morning_getin'].mean().reset_index()\n",
    "bus_route_getin_mean = bus_route_getin_mean.rename(columns = {'morning_getin': 'bus_route_getin_mean'})\n",
    "\n",
    "# mean of passenger per morning (takeoff)  \n",
    "bus_route_takeoff_mean = combined.groupby(['date','bus_route_id'])['morning_takeoff'].mean().reset_index()\n",
    "bus_route_takeoff_mean = bus_route_takeoff_mean.rename(columns = {'morning_takeoff': 'bus_route_takeoff_mean'})\n",
    "\n",
    "# Merge\n",
    "combined = pd.merge(combined, bus_route_getin_mean , on =['date','bus_route_id'], how='left')\n",
    "combined = pd.merge(combined, bus_route_takeoff_mean , on =['date','bus_route_id'], how='left')"
   ]
  },
  {
   "cell_type": "code",
   "execution_count": null,
   "metadata": {
    "ExecuteTime": {
     "end_time": "2019-12-10T06:19:48.947359Z",
     "start_time": "2019-12-10T06:19:45.097077Z"
    }
   },
   "outputs": [],
   "source": [
    "# Kmeans1\n",
    "df_cluster = combined[['date','bus_route_id','station_code','morning_getin']].copy()\n",
    "df_cluster['bus_route_id_station_code'] = df_cluster['bus_route_id'].astype(np.str)+'_'+df_cluster['station_code'].astype(np.str)\n",
    "df_cluster_pivot = pd.pivot_table(data = df_cluster, index='bus_route_id_station_code', columns='date',\n",
    "                                  values='morning_getin', aggfunc='sum').fillna(0)\n",
    "\n",
    "kmeans = MiniBatchKMeans(n_clusters=200, random_state=1993)\n",
    "\n",
    "%time kmeans.fit(df_cluster_pivot)\n",
    "\n",
    "df_cluster_pivot['kmeans1'] = kmeans.predict(df_cluster_pivot)\n",
    "\n",
    "combined = pd.merge(combined, df_cluster_pivot[['kmeans1']], left_on = 'bus_route_id_station_code', right_index=True, how='left')"
   ]
  },
  {
   "cell_type": "code",
   "execution_count": null,
   "metadata": {
    "ExecuteTime": {
     "end_time": "2019-12-10T06:19:52.717636Z",
     "start_time": "2019-12-10T06:19:48.949360Z"
    }
   },
   "outputs": [],
   "source": [
    "# Kmeans2\n",
    "df_cluster = combined[['date','bus_route_id','station_code','noon_getin']].copy()\n",
    "df_cluster['bus_route_id_station_code'] = df_cluster['bus_route_id'].astype(np.str)+'_'+df_cluster['station_code'].astype(np.str)\n",
    "df_cluster_pivot = pd.pivot_table(data = df_cluster, index='bus_route_id_station_code', columns='date',\n",
    "                                  values='noon_getin', aggfunc='sum').fillna(0)\n",
    "\n",
    "kmeans = MiniBatchKMeans(n_clusters=200, random_state=1993)\n",
    "\n",
    "%time kmeans.fit(df_cluster_pivot)\n",
    "\n",
    "df_cluster_pivot['kmeans2'] = kmeans.predict(df_cluster_pivot)\n",
    "\n",
    "combined = pd.merge(combined, df_cluster_pivot[['kmeans2']], left_on = 'bus_route_id_station_code', right_index=True, how='left')"
   ]
  },
  {
   "cell_type": "code",
   "execution_count": null,
   "metadata": {
    "ExecuteTime": {
     "end_time": "2019-12-10T06:19:54.129739Z",
     "start_time": "2019-12-10T06:19:52.719637Z"
    }
   },
   "outputs": [],
   "source": [
    "# Merge \n",
    "combined = pd.merge(combined, df_commuter, on = 'station_code',how='left')"
   ]
  },
  {
   "cell_type": "code",
   "execution_count": null,
   "metadata": {
    "ExecuteTime": {
     "end_time": "2019-12-10T06:19:56.290898Z",
     "start_time": "2019-12-10T06:19:54.131740Z"
    },
    "scrolled": true
   },
   "outputs": [],
   "source": [
    "# Afternoon-Getoff-Amount\n",
    "df_afternoon_getoff_amount['getoff_date'] = pd.to_datetime(df_afternoon_getoff_amount['getoff_date'] )\n",
    "combined = pd.merge(combined, df_afternoon_getoff_amount,\n",
    "                 left_on = ['bus_route_id','date','station_code'],\n",
    "                 right_on = ['bus_route_id','getoff_date','getoff_station_code'],\n",
    "                 how='left')\n",
    "\n",
    "combined = combined.drop(['getoff_date','getoff_station_code'], 1)\n",
    "combined['afternoon_takeoff'] = combined['afternoon_takeoff'].fillna(0)"
   ]
  },
  {
   "cell_type": "code",
   "execution_count": null,
   "metadata": {
    "ExecuteTime": {
     "end_time": "2019-12-10T06:19:58.069028Z",
     "start_time": "2019-12-10T06:19:56.291898Z"
    }
   },
   "outputs": [],
   "source": [
    "# 이전 버스와의 배차간격?\n",
    "date_route_stataion_waittime['geton_date'] = pd.to_datetime(date_route_stataion_waittime['geton_date'] )\n",
    "combined = pd.merge(combined, date_route_stataion_waittime, \n",
    "                                         left_on =['date','bus_route_id'] ,\n",
    "                                         right_on =['geton_date','bus_route_id'],\n",
    "                                             how='left')\n",
    "combined = combined.drop(['geton_date'],1)"
   ]
  },
  {
   "cell_type": "code",
   "execution_count": null,
   "metadata": {
    "ExecuteTime": {
     "end_time": "2019-12-10T06:19:59.865161Z",
     "start_time": "2019-12-10T06:19:58.071030Z"
    }
   },
   "outputs": [],
   "source": [
    "# 6~9, 9~12시 사이에 각기 다른 집단의 사람들이 몇명 탑승했는지\n",
    "geton_bus_passender_cluster_count_morning['geton_date'] = pd.to_datetime(geton_bus_passender_cluster_count_morning['geton_date'] )\n",
    "combined = pd.merge( combined, geton_bus_passender_cluster_count_morning , left_on = ['date','station_code'],\n",
    "                                         right_on = ['geton_date', 'geton_station_code'],\n",
    "                                         how = 'left')\n",
    "\n",
    "combined = combined.drop(['geton_station_code','geton_date'],1)"
   ]
  },
  {
   "cell_type": "code",
   "execution_count": null,
   "metadata": {
    "ExecuteTime": {
     "end_time": "2019-12-10T06:20:01.754300Z",
     "start_time": "2019-12-10T06:19:59.867162Z"
    }
   },
   "outputs": [],
   "source": [
    "# 6~9, 9~12시 사이에 각기 다른 집단의 사람들이 몇명 내렸는지\n",
    "takeoff_bus_passender_cluster_count_noon['geton_date'] = pd.to_datetime(takeoff_bus_passender_cluster_count_noon['geton_date'] )\n",
    "combined = pd.merge( combined, takeoff_bus_passender_cluster_count_noon , left_on = ['date','station_code'],\n",
    "                                                                         right_on = ['geton_date', 'getoff_station_code'],\n",
    "                                                                         how = 'left')\n",
    "\n",
    "combined = combined.drop(['getoff_station_code','geton_date'],1)"
   ]
  },
  {
   "cell_type": "code",
   "execution_count": null,
   "metadata": {
    "ExecuteTime": {
     "end_time": "2019-12-10T06:20:03.924460Z",
     "start_time": "2019-12-10T06:20:01.756301Z"
    }
   },
   "outputs": [],
   "source": [
    "# 기상데이터 -- 12시 전에 수집된 강수량\n",
    "df_rain = pd.read_csv('../preprocessed_external_dataset/hourly_rain.csv')\n",
    "df_rain['date'] = pd.to_datetime(df_rain['date'])\n",
    "\n",
    "combined = pd.merge(combined, df_rain, on='date', how='left')\n",
    "\n",
    "# 기상데이터 -- 전날 강수량\n",
    "df_daily_rain = pd.read_csv('../preprocessed_external_dataset/daily_rain.csv')\n",
    "df_daily_rain['date'] = pd.to_datetime(df_daily_rain['date'])\n",
    "df_daily_rain.columns = ['prev_date','prev_daily_rain']\n",
    "\n",
    "combined['prev_date'] = pd.to_datetime(combined['date']) - pd.Timedelta('1 day')\n",
    "combined = pd.merge(combined, df_daily_rain, on='prev_date', how='left')\n",
    "\n",
    "# 기상데이터 -- 12시 전에 수집된 운집량\n",
    "df_cloud = pd.read_csv('../preprocessed_external_dataset/hourly_cloud.csv')\n",
    "df_cloud['date'] = pd.to_datetime(df_rain['date'])\n",
    "\n",
    "combined = pd.merge(combined, df_cloud, on='date', how='left')"
   ]
  },
  {
   "cell_type": "code",
   "execution_count": null,
   "metadata": {
    "ExecuteTime": {
     "end_time": "2019-12-10T06:20:05.016540Z",
     "start_time": "2019-12-10T06:20:03.926460Z"
    }
   },
   "outputs": [],
   "source": [
    "# Google-Map을 통한 정류장의 주소정보\n",
    "geo_df2 = pd.read_pickle('../preprocessed_external_dataset/second_whole_dict.pickle')\n",
    "combined['latlong_second'] = combined['latitude'].astype(np.str) +'_'+ combined['longitude'].astype(np.str)\n",
    "combined['latlong_second'] = combined['latlong_second'].apply(lambda x: geo_df2.get(x))"
   ]
  },
  {
   "cell_type": "code",
   "execution_count": null,
   "metadata": {
    "ExecuteTime": {
     "end_time": "2019-12-10T06:20:06.015613Z",
     "start_time": "2019-12-10T06:20:05.018541Z"
    }
   },
   "outputs": [],
   "source": [
    "# 주소 별 거주자 수\n",
    "df_pop = pd.read_csv('../preprocessed_external_dataset/제주도_거주자수.csv')\n",
    "combined['district'] = combined['latlong_second'].apply(lambda x: x.split(' ')[1].split(' ')[0])\n",
    "combined = pd.merge(combined, df_pop, on='district', how='left')"
   ]
  },
  {
   "cell_type": "code",
   "execution_count": null,
   "metadata": {
    "ExecuteTime": {
     "end_time": "2019-12-10T06:20:06.780670Z",
     "start_time": "2019-12-10T06:20:06.017613Z"
    }
   },
   "outputs": [],
   "source": [
    "combined = combined.rename(columns={\"총_인구\":\"total_population\", \"남자_인구\":\"man_population\", \"여자_인구\":\"woman_population\"})"
   ]
  },
  {
   "cell_type": "code",
   "execution_count": null,
   "metadata": {
    "ExecuteTime": {
     "end_time": "2019-12-10T06:23:04.853305Z",
     "start_time": "2019-12-10T06:20:06.782670Z"
    }
   },
   "outputs": [],
   "source": [
    "# Station 정보\n",
    "df_bus['time_diff'] = pd.to_datetime(df_bus['getoff_time'])-pd.to_datetime(df_bus['geton_time'])\n",
    "df_bus['time_diff'] = df_bus['time_diff'].dt.seconds\n",
    "\n",
    "# 각 정류장에서 평균 탑승 시간은 얼마인지\n",
    "station_info = df_bus.groupby(['geton_station_code'])['time_diff'].mean().reset_index()\n",
    "station_info.columns = ['station_code','avg_time_diff']\n",
    "\n",
    "combined = pd.merge(combined, station_info, on ='station_code', how='left')"
   ]
  },
  {
   "cell_type": "code",
   "execution_count": null,
   "metadata": {
    "ExecuteTime": {
     "end_time": "2019-12-10T06:23:08.657584Z",
     "start_time": "2019-12-10T06:23:04.855306Z"
    }
   },
   "outputs": [],
   "source": [
    "# 각 정류장에서 일평균 승차,하차 승객의 차이\n",
    "station_passenger_in = df_bus.groupby(['geton_date','geton_station_code'])['user_card_id'].nunique().reset_index()\n",
    "station_passenger_out = df_bus.groupby(['geton_date','getoff_station_code'])['user_card_id'].nunique().reset_index()\n",
    "\n",
    "station_passenger_in.columns = ['date','station_code','passengers_in']\n",
    "station_passenger_out.columns = ['date','station_code','passengers_out']\n",
    "\n",
    "station_passenger_in = station_passenger_in.groupby('station_code')['passengers_in'].mean().reset_index()\n",
    "station_passenger_out = station_passenger_out.groupby('station_code')['passengers_out'].mean().reset_index()\n",
    "\n",
    "station_passenger = pd.merge(station_passenger_in, station_passenger_out, how='outer', on='station_code')\n",
    "\n",
    "combined = pd.merge(combined, station_passenger, how='left', on='station_code')"
   ]
  },
  {
   "cell_type": "code",
   "execution_count": null,
   "metadata": {
    "ExecuteTime": {
     "end_time": "2019-12-10T06:23:08.947606Z",
     "start_time": "2019-12-10T06:23:08.658585Z"
    }
   },
   "outputs": [],
   "source": [
    "combined['latitude_rank'] = combined['latitude'].rank()\n",
    "combined['longitude_rank'] = combined['longitude'].rank()"
   ]
  },
  {
   "cell_type": "code",
   "execution_count": null,
   "metadata": {
    "ExecuteTime": {
     "end_time": "2019-12-10T06:27:48.379673Z",
     "start_time": "2019-12-10T06:27:47.357599Z"
    }
   },
   "outputs": [],
   "source": [
    "# Airport \n",
    "df_airport = pd.read_csv('../preprocessed_external_dataset/df_airport.csv')\n",
    "df_airport.columns = ['date','current_day_national_plane','current_day_international_plane']\n",
    "df_airport['date'] = pd.to_datetime(df_airport['date'])\n",
    "combined = pd.merge(combined, df_airport, on = 'date', how='left')\n",
    "\n",
    "# Prev_airport\n",
    "df_airport.columns = ['prev_date',' prev_day_national_plane','prev_day_international_plane']\n",
    "df_airport['prev_date'] = pd.to_datetime(df_airport['prev_date'])\n",
    "combined = pd.merge(combined, df_airport, on = 'prev_date', how='left')"
   ]
  },
  {
   "cell_type": "code",
   "execution_count": null,
   "metadata": {
    "ExecuteTime": {
     "end_time": "2019-12-10T06:27:51.310771Z",
     "start_time": "2019-12-10T06:27:49.527172Z"
    }
   },
   "outputs": [],
   "source": [
    "# Prev_day passenger\n",
    "df_daily_passenger = pd.read_csv('../preprocessed_external_dataset/daily_passenger.csv')\n",
    "df_daily_passenger.columns = ['prev_date','prev_passenger']\n",
    "df_daily_passenger['prev_date'] = pd.to_datetime(df_daily_passenger['prev_date'], format='%Y%m%d')\n",
    "\n",
    "combined = pd.merge(combined, df_daily_passenger, on ='prev_date', how='left')\n",
    "combined.drop('prev_passenger',1,inplace=True)"
   ]
  },
  {
   "cell_type": "code",
   "execution_count": null,
   "metadata": {
    "ExecuteTime": {
     "end_time": "2019-12-10T06:27:51.392778Z",
     "start_time": "2019-12-10T06:27:51.312773Z"
    }
   },
   "outputs": [],
   "source": [
    "combined.tail()"
   ]
  },
  {
   "cell_type": "code",
   "execution_count": null,
   "metadata": {
    "ExecuteTime": {
     "end_time": "2019-12-10T06:27:51.398779Z",
     "start_time": "2019-12-10T06:27:51.394779Z"
    }
   },
   "outputs": [],
   "source": [
    "drop_cols += ['prev_date', 'district']"
   ]
  },
  {
   "cell_type": "code",
   "execution_count": null,
   "metadata": {
    "ExecuteTime": {
     "end_time": "2019-12-10T06:27:51.411778Z",
     "start_time": "2019-12-10T06:27:51.401779Z"
    }
   },
   "outputs": [],
   "source": [
    "# Drop unnecessary columns\n",
    "drop_cols += ['id', 'date', 'station_name',] +\\\n",
    "            ['getin_user_count4_morning', 'takeoff_user_count4_noon', 'getin_user_count6_morning', 'takeoff_user_count6_noon',\n",
    "            'prev_date','district',\n",
    "            ]"
   ]
  },
  {
   "cell_type": "code",
   "execution_count": null,
   "metadata": {
    "ExecuteTime": {
     "end_time": "2019-12-10T06:27:51.610793Z",
     "start_time": "2019-12-10T06:27:51.414780Z"
    }
   },
   "outputs": [],
   "source": [
    "train, test = combined[:n_trn][[col for col in combined.columns if col not in drop_cols]] , combined[n_trn:][[col for col in combined.columns if col not in drop_cols]]"
   ]
  },
  {
   "cell_type": "code",
   "execution_count": null,
   "metadata": {
    "ExecuteTime": {
     "end_time": "2019-12-10T06:27:54.796031Z",
     "start_time": "2019-12-10T06:27:51.611794Z"
    }
   },
   "outputs": [],
   "source": [
    "# Label Encoding\n",
    "cat_cols = [\n",
    "    'latlong_second'\n",
    "]\n",
    "\n",
    "cat_cols += [\n",
    "                'bus_route_id','station_code','dayofweek',\n",
    "                'kmeans1','kmeans2',\n",
    "                'bus_route_id_station_code','bus_route_id_station_code_weekend'\n",
    "            ]\n",
    "\n",
    "for col in tqdm_notebook(cat_cols):\n",
    "    lbl = LabelEncoder()\n",
    "    lbl.fit( train[col].tolist() + test[col].tolist() )\n",
    "    train[col] = lbl.transform( train[[col]]  )\n",
    "    test[col] = lbl.transform( test[[col]]  )\n",
    "    \n",
    "    train[col] = train[col].astype('category')\n",
    "    test[col] = test[col].astype('category')"
   ]
  },
  {
   "cell_type": "code",
   "execution_count": null,
   "metadata": {
    "ExecuteTime": {
     "end_time": "2019-12-10T06:27:56.009804Z",
     "start_time": "2019-12-10T06:27:54.799029Z"
    }
   },
   "outputs": [],
   "source": [
    "train.to_pickle('preprocessed_train2.pickle')\n",
    "test.to_pickle('preprocessed_test2.pickle')"
   ]
  }
 ],
 "metadata": {
  "hide_input": false,
  "kernelspec": {
   "display_name": "Python 3",
   "language": "python",
   "name": "python3"
  },
  "language_info": {
   "codemirror_mode": {
    "name": "ipython",
    "version": 3
   },
   "file_extension": ".py",
   "mimetype": "text/x-python",
   "name": "python",
   "nbconvert_exporter": "python",
   "pygments_lexer": "ipython3",
   "version": "3.7.2"
  },
  "latex_envs": {
   "LaTeX_envs_menu_present": true,
   "autoclose": false,
   "autocomplete": true,
   "bibliofile": "biblio.bib",
   "cite_by": "apalike",
   "current_citInitial": 1,
   "eqLabelWithNumbers": true,
   "eqNumInitial": 1,
   "hotkeys": {
    "equation": "Ctrl-E",
    "itemize": "Ctrl-I"
   },
   "labels_anchors": false,
   "latex_user_defs": false,
   "report_style_numbering": false,
   "user_envs_cfg": false
  },
  "toc": {
   "base_numbering": 1,
   "nav_menu": {},
   "number_sections": false,
   "sideBar": true,
   "skip_h1_title": false,
   "title_cell": "Table of Contents",
   "title_sidebar": "Contents",
   "toc_cell": false,
   "toc_position": {},
   "toc_section_display": true,
   "toc_window_display": true
  },
  "varInspector": {
   "cols": {
    "lenName": 16,
    "lenType": 16,
    "lenVar": 40
   },
   "kernels_config": {
    "python": {
     "delete_cmd_postfix": "",
     "delete_cmd_prefix": "del ",
     "library": "var_list.py",
     "varRefreshCmd": "print(var_dic_list())"
    },
    "r": {
     "delete_cmd_postfix": ") ",
     "delete_cmd_prefix": "rm(",
     "library": "var_list.r",
     "varRefreshCmd": "cat(var_dic_list()) "
    }
   },
   "types_to_exclude": [
    "module",
    "function",
    "builtin_function_or_method",
    "instance",
    "_Feature"
   ],
   "window_display": false
  },
  "widgets": {
   "application/vnd.jupyter.widget-state+json": {
    "state": {
     "1c20add733d7410788d755ebfa0b661d": {
      "model_module": "@jupyter-widgets/controls",
      "model_module_version": "1.5.0",
      "model_name": "HBoxModel",
      "state": {
       "_dom_classes": [],
       "_model_module": "@jupyter-widgets/controls",
       "_model_module_version": "1.5.0",
       "_model_name": "HBoxModel",
       "_view_count": null,
       "_view_module": "@jupyter-widgets/controls",
       "_view_module_version": "1.5.0",
       "_view_name": "HBoxView",
       "box_style": "",
       "children": [
        "IPY_MODEL_4c54f1f9dec74b34a24ac9b090cd5c4a",
        "IPY_MODEL_8579196a8e0749e8be9e529d63b56c7f"
       ],
       "layout": "IPY_MODEL_a17648da377d4374bc22a0638efb8fc1"
      }
     },
     "1c5079a9358c47a79ce0fd94d3ac21c3": {
      "model_module": "@jupyter-widgets/base",
      "model_module_version": "1.2.0",
      "model_name": "LayoutModel",
      "state": {
       "_model_module": "@jupyter-widgets/base",
       "_model_module_version": "1.2.0",
       "_model_name": "LayoutModel",
       "_view_count": null,
       "_view_module": "@jupyter-widgets/base",
       "_view_module_version": "1.2.0",
       "_view_name": "LayoutView",
       "align_content": null,
       "align_items": null,
       "align_self": null,
       "border": null,
       "bottom": null,
       "display": null,
       "flex": null,
       "flex_flow": null,
       "grid_area": null,
       "grid_auto_columns": null,
       "grid_auto_flow": null,
       "grid_auto_rows": null,
       "grid_column": null,
       "grid_gap": null,
       "grid_row": null,
       "grid_template_areas": null,
       "grid_template_columns": null,
       "grid_template_rows": null,
       "height": null,
       "justify_content": null,
       "justify_items": null,
       "left": null,
       "margin": null,
       "max_height": null,
       "max_width": null,
       "min_height": null,
       "min_width": null,
       "object_fit": null,
       "object_position": null,
       "order": null,
       "overflow": null,
       "overflow_x": null,
       "overflow_y": null,
       "padding": null,
       "right": null,
       "top": null,
       "visibility": null,
       "width": null
      }
     },
     "1e0f6659131f4d5abb322d425f71e306": {
      "model_module": "@jupyter-widgets/base",
      "model_module_version": "1.2.0",
      "model_name": "LayoutModel",
      "state": {
       "_model_module": "@jupyter-widgets/base",
       "_model_module_version": "1.2.0",
       "_model_name": "LayoutModel",
       "_view_count": null,
       "_view_module": "@jupyter-widgets/base",
       "_view_module_version": "1.2.0",
       "_view_name": "LayoutView",
       "align_content": null,
       "align_items": null,
       "align_self": null,
       "border": null,
       "bottom": null,
       "display": null,
       "flex": null,
       "flex_flow": null,
       "grid_area": null,
       "grid_auto_columns": null,
       "grid_auto_flow": null,
       "grid_auto_rows": null,
       "grid_column": null,
       "grid_gap": null,
       "grid_row": null,
       "grid_template_areas": null,
       "grid_template_columns": null,
       "grid_template_rows": null,
       "height": null,
       "justify_content": null,
       "justify_items": null,
       "left": null,
       "margin": null,
       "max_height": null,
       "max_width": null,
       "min_height": null,
       "min_width": null,
       "object_fit": null,
       "object_position": null,
       "order": null,
       "overflow": null,
       "overflow_x": null,
       "overflow_y": null,
       "padding": null,
       "right": null,
       "top": null,
       "visibility": null,
       "width": null
      }
     },
     "2b8591082aaa4b3ab027ccdcc729d684": {
      "model_module": "@jupyter-widgets/base",
      "model_module_version": "1.2.0",
      "model_name": "LayoutModel",
      "state": {
       "_model_module": "@jupyter-widgets/base",
       "_model_module_version": "1.2.0",
       "_model_name": "LayoutModel",
       "_view_count": null,
       "_view_module": "@jupyter-widgets/base",
       "_view_module_version": "1.2.0",
       "_view_name": "LayoutView",
       "align_content": null,
       "align_items": null,
       "align_self": null,
       "border": null,
       "bottom": null,
       "display": null,
       "flex": null,
       "flex_flow": null,
       "grid_area": null,
       "grid_auto_columns": null,
       "grid_auto_flow": null,
       "grid_auto_rows": null,
       "grid_column": null,
       "grid_gap": null,
       "grid_row": null,
       "grid_template_areas": null,
       "grid_template_columns": null,
       "grid_template_rows": null,
       "height": null,
       "justify_content": null,
       "justify_items": null,
       "left": null,
       "margin": null,
       "max_height": null,
       "max_width": null,
       "min_height": null,
       "min_width": null,
       "object_fit": null,
       "object_position": null,
       "order": null,
       "overflow": null,
       "overflow_x": null,
       "overflow_y": null,
       "padding": null,
       "right": null,
       "top": null,
       "visibility": null,
       "width": null
      }
     },
     "307509e2151f4a7685b79fb7ed7564b1": {
      "model_module": "@jupyter-widgets/controls",
      "model_module_version": "1.5.0",
      "model_name": "HTMLModel",
      "state": {
       "_dom_classes": [],
       "_model_module": "@jupyter-widgets/controls",
       "_model_module_version": "1.5.0",
       "_model_name": "HTMLModel",
       "_view_count": null,
       "_view_module": "@jupyter-widgets/controls",
       "_view_module_version": "1.5.0",
       "_view_name": "HTMLView",
       "description": "",
       "description_tooltip": null,
       "layout": "IPY_MODEL_2b8591082aaa4b3ab027ccdcc729d684",
       "placeholder": "​",
       "style": "IPY_MODEL_ab65a7b511e146cd907012f5b83c5f38",
       "value": " 8/8 [00:10&lt;00:00,  1.29s/it]"
      }
     },
     "32f7827606b64974ae7908ce1330d49e": {
      "model_module": "@jupyter-widgets/base",
      "model_module_version": "1.2.0",
      "model_name": "LayoutModel",
      "state": {
       "_model_module": "@jupyter-widgets/base",
       "_model_module_version": "1.2.0",
       "_model_name": "LayoutModel",
       "_view_count": null,
       "_view_module": "@jupyter-widgets/base",
       "_view_module_version": "1.2.0",
       "_view_name": "LayoutView",
       "align_content": null,
       "align_items": null,
       "align_self": null,
       "border": null,
       "bottom": null,
       "display": null,
       "flex": null,
       "flex_flow": null,
       "grid_area": null,
       "grid_auto_columns": null,
       "grid_auto_flow": null,
       "grid_auto_rows": null,
       "grid_column": null,
       "grid_gap": null,
       "grid_row": null,
       "grid_template_areas": null,
       "grid_template_columns": null,
       "grid_template_rows": null,
       "height": null,
       "justify_content": null,
       "justify_items": null,
       "left": null,
       "margin": null,
       "max_height": null,
       "max_width": null,
       "min_height": null,
       "min_width": null,
       "object_fit": null,
       "object_position": null,
       "order": null,
       "overflow": null,
       "overflow_x": null,
       "overflow_y": null,
       "padding": null,
       "right": null,
       "top": null,
       "visibility": null,
       "width": null
      }
     },
     "3512802ef8a643319073ca0237c1fa54": {
      "model_module": "@jupyter-widgets/controls",
      "model_module_version": "1.5.0",
      "model_name": "HBoxModel",
      "state": {
       "_dom_classes": [],
       "_model_module": "@jupyter-widgets/controls",
       "_model_module_version": "1.5.0",
       "_model_name": "HBoxModel",
       "_view_count": null,
       "_view_module": "@jupyter-widgets/controls",
       "_view_module_version": "1.5.0",
       "_view_name": "HBoxView",
       "box_style": "",
       "children": [
        "IPY_MODEL_9f0c291074244a59bdefc6cc789cb882",
        "IPY_MODEL_93de6638872640008ed231291c45f597"
       ],
       "layout": "IPY_MODEL_32f7827606b64974ae7908ce1330d49e"
      }
     },
     "488f45c391904909b8fb665d71c69e6a": {
      "model_module": "@jupyter-widgets/controls",
      "model_module_version": "1.5.0",
      "model_name": "ProgressStyleModel",
      "state": {
       "_model_module": "@jupyter-widgets/controls",
       "_model_module_version": "1.5.0",
       "_model_name": "ProgressStyleModel",
       "_view_count": null,
       "_view_module": "@jupyter-widgets/base",
       "_view_module_version": "1.2.0",
       "_view_name": "StyleView",
       "bar_color": null,
       "description_width": "initial"
      }
     },
     "4c2f0e237b784047bfdcfe64734287fc": {
      "model_module": "@jupyter-widgets/controls",
      "model_module_version": "1.5.0",
      "model_name": "ProgressStyleModel",
      "state": {
       "_model_module": "@jupyter-widgets/controls",
       "_model_module_version": "1.5.0",
       "_model_name": "ProgressStyleModel",
       "_view_count": null,
       "_view_module": "@jupyter-widgets/base",
       "_view_module_version": "1.2.0",
       "_view_name": "StyleView",
       "bar_color": null,
       "description_width": "initial"
      }
     },
     "4c54f1f9dec74b34a24ac9b090cd5c4a": {
      "model_module": "@jupyter-widgets/controls",
      "model_module_version": "1.5.0",
      "model_name": "IntProgressModel",
      "state": {
       "_dom_classes": [],
       "_model_module": "@jupyter-widgets/controls",
       "_model_module_version": "1.5.0",
       "_model_name": "IntProgressModel",
       "_view_count": null,
       "_view_module": "@jupyter-widgets/controls",
       "_view_module_version": "1.5.0",
       "_view_name": "ProgressView",
       "bar_style": "success",
       "description": "",
       "description_tooltip": null,
       "layout": "IPY_MODEL_1e0f6659131f4d5abb322d425f71e306",
       "max": 1,
       "min": 0,
       "orientation": "horizontal",
       "style": "IPY_MODEL_488f45c391904909b8fb665d71c69e6a",
       "value": 1
      }
     },
     "6426e0f2354d467bba5bcc84ce715ee8": {
      "model_module": "@jupyter-widgets/base",
      "model_module_version": "1.2.0",
      "model_name": "LayoutModel",
      "state": {
       "_model_module": "@jupyter-widgets/base",
       "_model_module_version": "1.2.0",
       "_model_name": "LayoutModel",
       "_view_count": null,
       "_view_module": "@jupyter-widgets/base",
       "_view_module_version": "1.2.0",
       "_view_name": "LayoutView",
       "align_content": null,
       "align_items": null,
       "align_self": null,
       "border": null,
       "bottom": null,
       "display": null,
       "flex": null,
       "flex_flow": null,
       "grid_area": null,
       "grid_auto_columns": null,
       "grid_auto_flow": null,
       "grid_auto_rows": null,
       "grid_column": null,
       "grid_gap": null,
       "grid_row": null,
       "grid_template_areas": null,
       "grid_template_columns": null,
       "grid_template_rows": null,
       "height": null,
       "justify_content": null,
       "justify_items": null,
       "left": null,
       "margin": null,
       "max_height": null,
       "max_width": null,
       "min_height": null,
       "min_width": null,
       "object_fit": null,
       "object_position": null,
       "order": null,
       "overflow": null,
       "overflow_x": null,
       "overflow_y": null,
       "padding": null,
       "right": null,
       "top": null,
       "visibility": null,
       "width": null
      }
     },
     "695b61b62937489cb2471b5cd34e50ef": {
      "model_module": "@jupyter-widgets/base",
      "model_module_version": "1.2.0",
      "model_name": "LayoutModel",
      "state": {
       "_model_module": "@jupyter-widgets/base",
       "_model_module_version": "1.2.0",
       "_model_name": "LayoutModel",
       "_view_count": null,
       "_view_module": "@jupyter-widgets/base",
       "_view_module_version": "1.2.0",
       "_view_name": "LayoutView",
       "align_content": null,
       "align_items": null,
       "align_self": null,
       "border": null,
       "bottom": null,
       "display": null,
       "flex": null,
       "flex_flow": null,
       "grid_area": null,
       "grid_auto_columns": null,
       "grid_auto_flow": null,
       "grid_auto_rows": null,
       "grid_column": null,
       "grid_gap": null,
       "grid_row": null,
       "grid_template_areas": null,
       "grid_template_columns": null,
       "grid_template_rows": null,
       "height": null,
       "justify_content": null,
       "justify_items": null,
       "left": null,
       "margin": null,
       "max_height": null,
       "max_width": null,
       "min_height": null,
       "min_width": null,
       "object_fit": null,
       "object_position": null,
       "order": null,
       "overflow": null,
       "overflow_x": null,
       "overflow_y": null,
       "padding": null,
       "right": null,
       "top": null,
       "visibility": null,
       "width": null
      }
     },
     "6d5a6d5a3f27438bbe1ec113086e2cc7": {
      "model_module": "@jupyter-widgets/base",
      "model_module_version": "1.2.0",
      "model_name": "LayoutModel",
      "state": {
       "_model_module": "@jupyter-widgets/base",
       "_model_module_version": "1.2.0",
       "_model_name": "LayoutModel",
       "_view_count": null,
       "_view_module": "@jupyter-widgets/base",
       "_view_module_version": "1.2.0",
       "_view_name": "LayoutView",
       "align_content": null,
       "align_items": null,
       "align_self": null,
       "border": null,
       "bottom": null,
       "display": null,
       "flex": null,
       "flex_flow": null,
       "grid_area": null,
       "grid_auto_columns": null,
       "grid_auto_flow": null,
       "grid_auto_rows": null,
       "grid_column": null,
       "grid_gap": null,
       "grid_row": null,
       "grid_template_areas": null,
       "grid_template_columns": null,
       "grid_template_rows": null,
       "height": null,
       "justify_content": null,
       "justify_items": null,
       "left": null,
       "margin": null,
       "max_height": null,
       "max_width": null,
       "min_height": null,
       "min_width": null,
       "object_fit": null,
       "object_position": null,
       "order": null,
       "overflow": null,
       "overflow_x": null,
       "overflow_y": null,
       "padding": null,
       "right": null,
       "top": null,
       "visibility": null,
       "width": null
      }
     },
     "7b03ae04ae274792b1de8a1f8843f759": {
      "model_module": "@jupyter-widgets/controls",
      "model_module_version": "1.5.0",
      "model_name": "DescriptionStyleModel",
      "state": {
       "_model_module": "@jupyter-widgets/controls",
       "_model_module_version": "1.5.0",
       "_model_name": "DescriptionStyleModel",
       "_view_count": null,
       "_view_module": "@jupyter-widgets/base",
       "_view_module_version": "1.2.0",
       "_view_name": "StyleView",
       "description_width": ""
      }
     },
     "8579196a8e0749e8be9e529d63b56c7f": {
      "model_module": "@jupyter-widgets/controls",
      "model_module_version": "1.5.0",
      "model_name": "HTMLModel",
      "state": {
       "_dom_classes": [],
       "_model_module": "@jupyter-widgets/controls",
       "_model_module_version": "1.5.0",
       "_model_name": "HTMLModel",
       "_view_count": null,
       "_view_module": "@jupyter-widgets/controls",
       "_view_module_version": "1.5.0",
       "_view_name": "HTMLView",
       "description": "",
       "description_tooltip": null,
       "layout": "IPY_MODEL_6426e0f2354d467bba5bcc84ce715ee8",
       "placeholder": "​",
       "style": "IPY_MODEL_7b03ae04ae274792b1de8a1f8843f759",
       "value": " 5/? [19:58&lt;00:00, 239.64s/it]"
      }
     },
     "85e19c20f5ed4146bd59075b2454648c": {
      "model_module": "@jupyter-widgets/controls",
      "model_module_version": "1.5.0",
      "model_name": "ProgressStyleModel",
      "state": {
       "_model_module": "@jupyter-widgets/controls",
       "_model_module_version": "1.5.0",
       "_model_name": "ProgressStyleModel",
       "_view_count": null,
       "_view_module": "@jupyter-widgets/base",
       "_view_module_version": "1.2.0",
       "_view_name": "StyleView",
       "bar_color": null,
       "description_width": "initial"
      }
     },
     "89ca87a872b347cb8b19057d17952edf": {
      "model_module": "@jupyter-widgets/controls",
      "model_module_version": "1.5.0",
      "model_name": "DescriptionStyleModel",
      "state": {
       "_model_module": "@jupyter-widgets/controls",
       "_model_module_version": "1.5.0",
       "_model_name": "DescriptionStyleModel",
       "_view_count": null,
       "_view_module": "@jupyter-widgets/base",
       "_view_module_version": "1.2.0",
       "_view_name": "StyleView",
       "description_width": ""
      }
     },
     "92e18e1915f147d8a0e06c52382108de": {
      "model_module": "@jupyter-widgets/controls",
      "model_module_version": "1.5.0",
      "model_name": "IntProgressModel",
      "state": {
       "_dom_classes": [],
       "_model_module": "@jupyter-widgets/controls",
       "_model_module_version": "1.5.0",
       "_model_name": "IntProgressModel",
       "_view_count": null,
       "_view_module": "@jupyter-widgets/controls",
       "_view_module_version": "1.5.0",
       "_view_name": "ProgressView",
       "bar_style": "success",
       "description": "100%",
       "description_tooltip": null,
       "layout": "IPY_MODEL_695b61b62937489cb2471b5cd34e50ef",
       "max": 8,
       "min": 0,
       "orientation": "horizontal",
       "style": "IPY_MODEL_85e19c20f5ed4146bd59075b2454648c",
       "value": 8
      }
     },
     "93de6638872640008ed231291c45f597": {
      "model_module": "@jupyter-widgets/controls",
      "model_module_version": "1.5.0",
      "model_name": "HTMLModel",
      "state": {
       "_dom_classes": [],
       "_model_module": "@jupyter-widgets/controls",
       "_model_module_version": "1.5.0",
       "_model_name": "HTMLModel",
       "_view_count": null,
       "_view_module": "@jupyter-widgets/controls",
       "_view_module_version": "1.5.0",
       "_view_name": "HTMLView",
       "description": "",
       "description_tooltip": null,
       "layout": "IPY_MODEL_6d5a6d5a3f27438bbe1ec113086e2cc7",
       "placeholder": "​",
       "style": "IPY_MODEL_89ca87a872b347cb8b19057d17952edf",
       "value": " 1/1 [19:58&lt;00:00, 1198.24s/it]"
      }
     },
     "9f0c291074244a59bdefc6cc789cb882": {
      "model_module": "@jupyter-widgets/controls",
      "model_module_version": "1.5.0",
      "model_name": "IntProgressModel",
      "state": {
       "_dom_classes": [],
       "_model_module": "@jupyter-widgets/controls",
       "_model_module_version": "1.5.0",
       "_model_name": "IntProgressModel",
       "_view_count": null,
       "_view_module": "@jupyter-widgets/controls",
       "_view_module_version": "1.5.0",
       "_view_name": "ProgressView",
       "bar_style": "success",
       "description": "100%",
       "description_tooltip": null,
       "layout": "IPY_MODEL_1c5079a9358c47a79ce0fd94d3ac21c3",
       "max": 1,
       "min": 0,
       "orientation": "horizontal",
       "style": "IPY_MODEL_4c2f0e237b784047bfdcfe64734287fc",
       "value": 1
      }
     },
     "a17648da377d4374bc22a0638efb8fc1": {
      "model_module": "@jupyter-widgets/base",
      "model_module_version": "1.2.0",
      "model_name": "LayoutModel",
      "state": {
       "_model_module": "@jupyter-widgets/base",
       "_model_module_version": "1.2.0",
       "_model_name": "LayoutModel",
       "_view_count": null,
       "_view_module": "@jupyter-widgets/base",
       "_view_module_version": "1.2.0",
       "_view_name": "LayoutView",
       "align_content": null,
       "align_items": null,
       "align_self": null,
       "border": null,
       "bottom": null,
       "display": null,
       "flex": null,
       "flex_flow": null,
       "grid_area": null,
       "grid_auto_columns": null,
       "grid_auto_flow": null,
       "grid_auto_rows": null,
       "grid_column": null,
       "grid_gap": null,
       "grid_row": null,
       "grid_template_areas": null,
       "grid_template_columns": null,
       "grid_template_rows": null,
       "height": null,
       "justify_content": null,
       "justify_items": null,
       "left": null,
       "margin": null,
       "max_height": null,
       "max_width": null,
       "min_height": null,
       "min_width": null,
       "object_fit": null,
       "object_position": null,
       "order": null,
       "overflow": null,
       "overflow_x": null,
       "overflow_y": null,
       "padding": null,
       "right": null,
       "top": null,
       "visibility": null,
       "width": null
      }
     },
     "a4fe5d48746f44cc83ea3ca02731724c": {
      "model_module": "@jupyter-widgets/base",
      "model_module_version": "1.2.0",
      "model_name": "LayoutModel",
      "state": {
       "_model_module": "@jupyter-widgets/base",
       "_model_module_version": "1.2.0",
       "_model_name": "LayoutModel",
       "_view_count": null,
       "_view_module": "@jupyter-widgets/base",
       "_view_module_version": "1.2.0",
       "_view_name": "LayoutView",
       "align_content": null,
       "align_items": null,
       "align_self": null,
       "border": null,
       "bottom": null,
       "display": null,
       "flex": null,
       "flex_flow": null,
       "grid_area": null,
       "grid_auto_columns": null,
       "grid_auto_flow": null,
       "grid_auto_rows": null,
       "grid_column": null,
       "grid_gap": null,
       "grid_row": null,
       "grid_template_areas": null,
       "grid_template_columns": null,
       "grid_template_rows": null,
       "height": null,
       "justify_content": null,
       "justify_items": null,
       "left": null,
       "margin": null,
       "max_height": null,
       "max_width": null,
       "min_height": null,
       "min_width": null,
       "object_fit": null,
       "object_position": null,
       "order": null,
       "overflow": null,
       "overflow_x": null,
       "overflow_y": null,
       "padding": null,
       "right": null,
       "top": null,
       "visibility": null,
       "width": null
      }
     },
     "ab65a7b511e146cd907012f5b83c5f38": {
      "model_module": "@jupyter-widgets/controls",
      "model_module_version": "1.5.0",
      "model_name": "DescriptionStyleModel",
      "state": {
       "_model_module": "@jupyter-widgets/controls",
       "_model_module_version": "1.5.0",
       "_model_name": "DescriptionStyleModel",
       "_view_count": null,
       "_view_module": "@jupyter-widgets/base",
       "_view_module_version": "1.2.0",
       "_view_name": "StyleView",
       "description_width": ""
      }
     },
     "aca4782ea23f4239ba40b04f669989b2": {
      "model_module": "@jupyter-widgets/controls",
      "model_module_version": "1.5.0",
      "model_name": "HBoxModel",
      "state": {
       "_dom_classes": [],
       "_model_module": "@jupyter-widgets/controls",
       "_model_module_version": "1.5.0",
       "_model_name": "HBoxModel",
       "_view_count": null,
       "_view_module": "@jupyter-widgets/controls",
       "_view_module_version": "1.5.0",
       "_view_name": "HBoxView",
       "box_style": "",
       "children": [
        "IPY_MODEL_92e18e1915f147d8a0e06c52382108de",
        "IPY_MODEL_307509e2151f4a7685b79fb7ed7564b1"
       ],
       "layout": "IPY_MODEL_a4fe5d48746f44cc83ea3ca02731724c"
      }
     }
    },
    "version_major": 2,
    "version_minor": 0
   }
  }
 },
 "nbformat": 4,
 "nbformat_minor": 4
}
