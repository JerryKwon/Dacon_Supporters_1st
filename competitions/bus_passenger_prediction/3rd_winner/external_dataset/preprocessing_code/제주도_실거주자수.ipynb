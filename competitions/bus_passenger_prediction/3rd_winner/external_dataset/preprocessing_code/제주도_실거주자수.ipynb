{
 "cells": [
  {
   "cell_type": "markdown",
   "metadata": {},
   "source": [
    "source : https://www.jeju.go.kr/open/stats/list/population_temp.htm?act=view&seq=1165007"
   ]
  },
  {
   "cell_type": "code",
   "execution_count": 7,
   "metadata": {
    "ExecuteTime": {
     "end_time": "2019-12-12T06:59:52.331381Z",
     "start_time": "2019-12-12T06:59:52.327380Z"
    }
   },
   "outputs": [],
   "source": [
    "import pandas as pd\n",
    "import os"
   ]
  },
  {
   "cell_type": "code",
   "execution_count": 15,
   "metadata": {
    "ExecuteTime": {
     "end_time": "2019-12-12T07:01:25.025891Z",
     "start_time": "2019-12-12T07:01:24.726489Z"
    }
   },
   "outputs": [],
   "source": [
    "df_pop = pd.read_excel(r'C:\\Users\\user\\DACON Dropbox\\1. 대회\\13th_제주테크노파크2\\우승자\\3등 - TEAM-EDA\\giba_dacon_bus\\external_dataset\\raw_dataset\\2018년 주민등록인구 통계표.xlsx', encoding='cp949', sheet_name='1-4', skiprows=5)\n",
    "\n",
    "df_pop = df_pop[['Unnamed: 1','계','남','여']].drop([0,1,28]).reset_index(drop=True)\n",
    "df_pop.columns = ['district','총_인구','남자_인구','여자_인구']"
   ]
  },
  {
   "cell_type": "code",
   "execution_count": 17,
   "metadata": {
    "ExecuteTime": {
     "end_time": "2019-12-12T07:01:36.664986Z",
     "start_time": "2019-12-12T07:01:36.660990Z"
    }
   },
   "outputs": [],
   "source": [
    "df_pop['district'] = df_pop['district'].apply(lambda x: x.replace(' ',''))"
   ]
  },
  {
   "cell_type": "code",
   "execution_count": 18,
   "metadata": {
    "ExecuteTime": {
     "end_time": "2019-12-12T07:01:36.992906Z",
     "start_time": "2019-12-12T07:01:36.985905Z"
    }
   },
   "outputs": [],
   "source": [
    "df_pop['district'] = df_pop['district'].replace({'일도2동': '일도이동', '삼도1동':'삼도일동', '용담1동':'용담일동'})"
   ]
  },
  {
   "cell_type": "code",
   "execution_count": 19,
   "metadata": {
    "ExecuteTime": {
     "end_time": "2019-12-12T07:01:38.568066Z",
     "start_time": "2019-12-12T07:01:38.556069Z"
    }
   },
   "outputs": [],
   "source": [
    "df_pop.to_csv('../../preprocessed_external_dataset/제주도_거주자수.csv',index=False)"
   ]
  }
 ],
 "metadata": {
  "hide_input": false,
  "kernelspec": {
   "display_name": "Python 3",
   "language": "python",
   "name": "python3"
  },
  "language_info": {
   "codemirror_mode": {
    "name": "ipython",
    "version": 3
   },
   "file_extension": ".py",
   "mimetype": "text/x-python",
   "name": "python",
   "nbconvert_exporter": "python",
   "pygments_lexer": "ipython3",
   "version": "3.7.3"
  },
  "latex_envs": {
   "LaTeX_envs_menu_present": true,
   "autoclose": false,
   "autocomplete": true,
   "bibliofile": "biblio.bib",
   "cite_by": "apalike",
   "current_citInitial": 1,
   "eqLabelWithNumbers": true,
   "eqNumInitial": 1,
   "hotkeys": {
    "equation": "Ctrl-E",
    "itemize": "Ctrl-I"
   },
   "labels_anchors": false,
   "latex_user_defs": false,
   "report_style_numbering": false,
   "user_envs_cfg": false
  },
  "toc": {
   "base_numbering": 1,
   "nav_menu": {},
   "number_sections": true,
   "sideBar": true,
   "skip_h1_title": false,
   "title_cell": "Table of Contents",
   "title_sidebar": "Contents",
   "toc_cell": false,
   "toc_position": {},
   "toc_section_display": true,
   "toc_window_display": false
  },
  "varInspector": {
   "cols": {
    "lenName": 16,
    "lenType": 16,
    "lenVar": 40
   },
   "kernels_config": {
    "python": {
     "delete_cmd_postfix": "",
     "delete_cmd_prefix": "del ",
     "library": "var_list.py",
     "varRefreshCmd": "print(var_dic_list())"
    },
    "r": {
     "delete_cmd_postfix": ") ",
     "delete_cmd_prefix": "rm(",
     "library": "var_list.r",
     "varRefreshCmd": "cat(var_dic_list()) "
    }
   },
   "types_to_exclude": [
    "module",
    "function",
    "builtin_function_or_method",
    "instance",
    "_Feature"
   ],
   "window_display": false
  }
 },
 "nbformat": 4,
 "nbformat_minor": 2
}
