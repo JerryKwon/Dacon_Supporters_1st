{
 "cells": [
  {
   "cell_type": "markdown",
   "metadata": {},
   "source": [
    "source : https://amo.kma.go.kr/new/html/stat/stat1.jsp#"
   ]
  },
  {
   "cell_type": "code",
   "execution_count": 3,
   "metadata": {},
   "outputs": [],
   "source": [
    "import pandas as pd"
   ]
  },
  {
   "cell_type": "markdown",
   "metadata": {},
   "source": [
    "## Hourly"
   ]
  },
  {
   "cell_type": "code",
   "execution_count": 4,
   "metadata": {},
   "outputs": [],
   "source": [
    "df_sep = pd.read_csv('../raw_dataset/제주공항_9월_강수량.csv')\n",
    "df_oct = pd.read_csv('../raw_dataset/제주공항_10월_강수량.csv')"
   ]
  },
  {
   "cell_type": "code",
   "execution_count": 5,
   "metadata": {},
   "outputs": [],
   "source": [
    "hour_cols = ['0H', '1H', '2H', '3H', '4H', '5H',\\\n",
    "             '6H', '7H', '8H','9H', '10H', '11H']\n",
    "df_sep = df_sep[['Unnamed: 0'] + hour_cols]\n",
    "df_oct = df_oct[['Unnamed: 0'] + hour_cols]"
   ]
  },
  {
   "cell_type": "code",
   "execution_count": 6,
   "metadata": {},
   "outputs": [],
   "source": [
    "for col in hour_cols:\n",
    "    df_sep[col] = df_sep[col].replace({0.0 : 0.1})\n",
    "    df_oct[col] = df_oct[col].replace({0.0 : 0.1})"
   ]
  },
  {
   "cell_type": "code",
   "execution_count": 7,
   "metadata": {},
   "outputs": [],
   "source": [
    "df_sep['hourly_rain'] = df_sep[hour_cols].sum(axis=1)\n",
    "df_oct['hourly_rain'] = df_oct[hour_cols].sum(axis=1)"
   ]
  },
  {
   "cell_type": "code",
   "execution_count": 8,
   "metadata": {},
   "outputs": [],
   "source": [
    "df_sep['date'] = pd.date_range(start='2019-09-01', end='2019-09-30')\n",
    "df_oct['date'] = pd.date_range(start='2019-10-01', end='2019-10-31')"
   ]
  },
  {
   "cell_type": "code",
   "execution_count": 9,
   "metadata": {},
   "outputs": [],
   "source": [
    "df_oct = df_oct[df_oct['date']<='2019-10-16']"
   ]
  },
  {
   "cell_type": "code",
   "execution_count": 10,
   "metadata": {},
   "outputs": [],
   "source": [
    "df = pd.concat([df_sep, df_oct],axis=0)"
   ]
  },
  {
   "cell_type": "code",
   "execution_count": 11,
   "metadata": {},
   "outputs": [],
   "source": [
    "df[['date','hourly_rain']].to_csv('../../preprocessed_external_dataset/hourly_rain.csv',index=False)"
   ]
  },
  {
   "cell_type": "markdown",
   "metadata": {},
   "source": [
    "## Daily"
   ]
  },
  {
   "cell_type": "code",
   "execution_count": 48,
   "metadata": {},
   "outputs": [],
   "source": [
    "df_aug = pd.read_csv('../raw_dataset/제주공항_8월_강수량.csv')\n",
    "df_sep = pd.read_csv('../raw_dataset/제주공항_9월_강수량.csv')\n",
    "df_oct = pd.read_csv('../raw_dataset/제주공항_10월_강수량.csv')"
   ]
  },
  {
   "cell_type": "code",
   "execution_count": 49,
   "metadata": {},
   "outputs": [],
   "source": [
    "hour_cols = df_sep.columns[1:]"
   ]
  },
  {
   "cell_type": "code",
   "execution_count": 50,
   "metadata": {},
   "outputs": [],
   "source": [
    "for col in hour_cols:\n",
    "    df_aug[col] = df_aug[col].replace({0.0 : 0.1})\n",
    "    df_sep[col] = df_sep[col].replace({0.0 : 0.1})\n",
    "    df_oct[col] = df_oct[col].replace({0.0 : 0.1})"
   ]
  },
  {
   "cell_type": "code",
   "execution_count": 51,
   "metadata": {},
   "outputs": [],
   "source": [
    "df_aug['daily_rain'] = df_aug[hour_cols].sum(axis=1)\n",
    "df_sep['daily_rain'] = df_sep[hour_cols].sum(axis=1)\n",
    "df_oct['daily_rain'] = df_oct[hour_cols].sum(axis=1)"
   ]
  },
  {
   "cell_type": "code",
   "execution_count": 52,
   "metadata": {},
   "outputs": [],
   "source": [
    "df_aug['date'] = pd.date_range(start='2019-08-01', end='2019-08-31')\n",
    "df_sep['date'] = pd.date_range(start='2019-09-01', end='2019-09-30')\n",
    "df_oct['date'] = pd.date_range(start='2019-10-01', end='2019-10-31')"
   ]
  },
  {
   "cell_type": "code",
   "execution_count": 53,
   "metadata": {},
   "outputs": [],
   "source": [
    "df_aug = df_aug[df_aug['date']=='2019-08-31']\n",
    "df_oct = df_oct[df_oct['date']<='2019-10-16']"
   ]
  },
  {
   "cell_type": "code",
   "execution_count": 55,
   "metadata": {},
   "outputs": [],
   "source": [
    "df = pd.concat([df_aug, df_sep],axis=0)\n",
    "df = pd.concat([df, df_oct],axis=0)"
   ]
  },
  {
   "cell_type": "code",
   "execution_count": 58,
   "metadata": {},
   "outputs": [],
   "source": [
    "df[['date','daily_rain']].to_csv('../../preprocessed_external_dataset/daily_rain.csv',index=False)"
   ]
  },
  {
   "cell_type": "code",
   "execution_count": null,
   "metadata": {},
   "outputs": [],
   "source": []
  }
 ],
 "metadata": {
  "hide_input": false,
  "kernelspec": {
   "display_name": "Python 3",
   "language": "python",
   "name": "python3"
  },
  "language_info": {
   "codemirror_mode": {
    "name": "ipython",
    "version": 3
   },
   "file_extension": ".py",
   "mimetype": "text/x-python",
   "name": "python",
   "nbconvert_exporter": "python",
   "pygments_lexer": "ipython3",
   "version": "3.7.3"
  },
  "latex_envs": {
   "LaTeX_envs_menu_present": true,
   "autoclose": false,
   "autocomplete": true,
   "bibliofile": "biblio.bib",
   "cite_by": "apalike",
   "current_citInitial": 1,
   "eqLabelWithNumbers": true,
   "eqNumInitial": 1,
   "hotkeys": {
    "equation": "Ctrl-E",
    "itemize": "Ctrl-I"
   },
   "labels_anchors": false,
   "latex_user_defs": false,
   "report_style_numbering": false,
   "user_envs_cfg": false
  },
  "toc": {
   "base_numbering": 1,
   "nav_menu": {},
   "number_sections": true,
   "sideBar": true,
   "skip_h1_title": false,
   "title_cell": "Table of Contents",
   "title_sidebar": "Contents",
   "toc_cell": false,
   "toc_position": {},
   "toc_section_display": true,
   "toc_window_display": false
  },
  "varInspector": {
   "cols": {
    "lenName": 16,
    "lenType": 16,
    "lenVar": 40
   },
   "kernels_config": {
    "python": {
     "delete_cmd_postfix": "",
     "delete_cmd_prefix": "del ",
     "library": "var_list.py",
     "varRefreshCmd": "print(var_dic_list())"
    },
    "r": {
     "delete_cmd_postfix": ") ",
     "delete_cmd_prefix": "rm(",
     "library": "var_list.r",
     "varRefreshCmd": "cat(var_dic_list()) "
    }
   },
   "types_to_exclude": [
    "module",
    "function",
    "builtin_function_or_method",
    "instance",
    "_Feature"
   ],
   "window_display": false
  }
 },
 "nbformat": 4,
 "nbformat_minor": 2
}
