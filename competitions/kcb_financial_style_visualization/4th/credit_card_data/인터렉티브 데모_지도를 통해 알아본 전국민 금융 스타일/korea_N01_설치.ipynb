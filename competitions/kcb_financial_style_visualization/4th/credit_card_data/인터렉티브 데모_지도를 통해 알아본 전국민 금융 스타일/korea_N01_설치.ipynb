{
 "cells": [
  {
   "cell_type": "markdown",
   "metadata": {},
   "source": [
    "### 패키지 설치"
   ]
  },
  {
   "cell_type": "code",
   "execution_count": 1,
   "metadata": {},
   "outputs": [
    {
     "data": {
      "text/plain": [
       "'\\n# 터미널에서 아래 명령어 실행\\n\\n# folium: 지도 그리기 위한 패키지\\npip3 install --user branca==0.3.1\\npip3 install --user jinja2==2.10.1\\npip3 install --user requests==2.22.0\\npip3 install --user folium==0.9.1\\n\\n# jupyter widget: interative widget 패키지\\npip3 install --user ipywidgets\\njupyter nbextension enable --py widgetsnbextension\\n\\n# plotly: 그래프 패키지\\npip3 install --user plotly==3.10.0\\n'"
      ]
     },
     "execution_count": 1,
     "metadata": {},
     "output_type": "execute_result"
    }
   ],
   "source": [
    "\"\"\"\n",
    "# 터미널에서 아래 명령어 실행\n",
    "\n",
    "# folium: 지도 그리기 위한 패키지\n",
    "pip3 install --user branca==0.3.1\n",
    "pip3 install --user jinja2==2.10.1\n",
    "pip3 install --user requests==2.22.0\n",
    "pip3 install --user folium==0.9.1\n",
    "\n",
    "# jupyter widget: interative widget 패키지\n",
    "pip3 install --user ipywidgets\n",
    "jupyter nbextension enable --py widgetsnbextension\n",
    "\n",
    "# plotly: 그래프 패키지\n",
    "pip3 install --user plotly==3.10.0\n",
    "\"\"\""
   ]
  },
  {
   "cell_type": "code",
   "execution_count": null,
   "metadata": {},
   "outputs": [],
   "source": []
  }
 ],
 "metadata": {
  "kernelspec": {
   "display_name": "Python 3",
   "language": "python",
   "name": "python3"
  },
  "language_info": {
   "codemirror_mode": {
    "name": "ipython",
    "version": 3
   },
   "file_extension": ".py",
   "mimetype": "text/x-python",
   "name": "python",
   "nbconvert_exporter": "python",
   "pygments_lexer": "ipython3",
   "version": "3.5.2"
  }
 },
 "nbformat": 4,
 "nbformat_minor": 2
}
